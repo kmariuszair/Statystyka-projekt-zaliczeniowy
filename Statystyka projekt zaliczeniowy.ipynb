{
 "cells": [
  {
   "cell_type": "markdown",
   "metadata": {},
   "source": [
    "# Projekt zaliczeniowy satystyka#"
   ]
  },
  {
   "cell_type": "code",
   "execution_count": 34,
   "metadata": {},
   "outputs": [
    {
     "data": {
      "text/plain": [
       "array([1.0e+001, 8.0e+000, 6.4e+000, ..., 9.9e-324, 9.9e-324, 9.9e-324])"
      ]
     },
     "execution_count": 34,
     "metadata": {},
     "output_type": "execute_result"
    }
   ],
   "source": [
    "import numpy as np\n",
    "import matplotlib.pyplot as plt\n",
    "\n",
    "# Stałe definiujące wspolczynnik a w zależnośći od stanu obiektu\n",
    "praca_normalna = 0.8\n",
    "praca_z_awaria = 0.9\n",
    "a = praca_normalna\n",
    "#ilocs elementow  w tablicy \n",
    "ilosc_elem = 10000\n",
    "x = np.zeros((ilosc_elem, 1)).T[0]\n",
    "# Ustawienie wartośći pierwszego elementu o jakąś wartość  \n",
    "x[0] = 10\n",
    "# Przeprowadzona operacja \n",
    "for ind, val in enumerate(x):\n",
    "    if ind + 1 == ilosc_elem:\n",
    "        continue\n",
    "    x[ind +1] = a * x[ind] #+ np.random.randn()\n",
    "x"
   ]
  },
  {
   "cell_type": "markdown",
   "metadata": {},
   "source": []
  },
  {
   "cell_type": "code",
   "execution_count": null,
   "metadata": {},
   "outputs": [],
   "source": []
  },
  {
   "cell_type": "code",
   "execution_count": null,
   "metadata": {},
   "outputs": [],
   "source": []
  }
 ],
 "metadata": {
  "kernelspec": {
   "display_name": "Python 3",
   "language": "python",
   "name": "python3"
  },
  "language_info": {
   "codemirror_mode": {
    "name": "ipython",
    "version": 3
   },
   "file_extension": ".py",
   "mimetype": "text/x-python",
   "name": "python",
   "nbconvert_exporter": "python",
   "pygments_lexer": "ipython3",
   "version": "3.7.4"
  }
 },
 "nbformat": 4,
 "nbformat_minor": 2
}
